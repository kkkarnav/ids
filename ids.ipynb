{
 "cells": [
  {
   "cell_type": "code",
   "execution_count": 5,
   "metadata": {},
   "outputs": [
    {
     "name": "stdout",
     "output_type": "stream",
     "text": [
      "Requirement already satisfied: scikit-learn in /Users/aryannath/.sage/local/lib/python3.10/site-packages (1.3.0)\n",
      "Requirement already satisfied: numpy>=1.17.3 in /Applications/SageMath-9-7.app/Contents/Frameworks/Sage.framework/Versions/9.7/local/var/lib/sage/venv-python3.10.5/lib/python3.10/site-packages (from scikit-learn) (1.22.4)\n",
      "Requirement already satisfied: scipy>=1.5.0 in /Applications/SageMath-9-7.app/Contents/Frameworks/Sage.framework/Versions/9.7/local/var/lib/sage/venv-python3.10.5/lib/python3.10/site-packages (from scikit-learn) (1.8.1)\n",
      "Requirement already satisfied: joblib>=1.1.1 in /Users/aryannath/.sage/local/lib/python3.10/site-packages (from scikit-learn) (1.3.1)\n",
      "Requirement already satisfied: threadpoolctl>=2.0.0 in /Users/aryannath/.sage/local/lib/python3.10/site-packages (from scikit-learn) (3.1.0)\n"
     ]
    }
   ],
   "source": [
    "import sys\n",
    "!{sys.executable} -m pip install scikit-learn"
   ]
  },
  {
   "cell_type": "code",
   "execution_count": null,
   "metadata": {},
   "outputs": [],
   "source": [
    "import os\n",
    "from pprint import pprint\n",
    "from tqdm import tqdm\n",
    "import csv\n",
    "import numpy as np\n",
    "import pandas as pd\n",
    "import matplotlib.pyplot as plt\n",
    "import seaborn as sns\n",
    "from sklearn.preprocessing import scale\n",
    "from sklearn.linear_model import LogisticRegression,LogisticRegressionCV\n",
    "from sklearn.svm import SVC\n",
    "from sklearn.neighbors import KNeighborsClassifier\n",
    "from sklearn.model_selection import train_test_split\n",
    "from sklearn import metrics\n",
    "from ydata_profiling import ProfileReport\n",
    "import h5py"
   ]
  },
  {
   "cell_type": "code",
   "execution_count": 24,
   "metadata": {
    "pycharm": {
     "name": "#%%\n"
    }
   },
   "outputs": [
    {
     "name": "stderr",
     "output_type": "stream",
     "text": [
      "4it [00:07,  1.97s/it]\n"
     ]
    }
   ],
   "source": [
    "# Read dataset 1\n",
    "# Attack_free(1), DoS(0), Fuzzy(3), Impersonation(2)\n",
    "ref_directory = '../ids/CANintrusion/'\n",
    "dataset1 = [pd.DataFrame(columns=[\"Timestamp\", \"ID\", \"DLC\", \"Data\"]) for x in range(4)]\n",
    "for index, file in tqdm(enumerate([x for x in os.listdir(ref_directory) if x.endswith('.csv')])):\n",
    "    dataset1[index] = pd.read_csv(ref_directory + file)\n",
    "    dataset1[index] = dataset1[index].fillna(\"-1\")\n",
    "    for column in range(8):\n",
    "        dataset1[index][str(column+1)] = dataset1[index]['Data'].str[2*column:(2*column)+2]\n",
    "    dataset1[index] = dataset1[index].drop([\"Data\"], axis=1)\n",
    "    dataset1[index][\"Flag\"] = -1\n",
    "\n",
    "for x in range(4):\n",
    "    binlist = list()\n",
    "    for index in range(len(dataset1[x].index)):\n",
    "        bin = format(int(dataset1[x].at[index,'ID'],16), '0b')\n",
    "        binlist.append(bin)\n",
    "    dataset1[x]['binID'] = binlist"
   ]
  },
  {
   "cell_type": "code",
   "execution_count": 26,
   "metadata": {
    "pycharm": {
     "name": "#%%\n"
    }
   },
   "outputs": [
    {
     "name": "stdout",
     "output_type": "stream",
     "text": [
      "    Timestamp       ID  DLC   1   2   3   4   5   6   7   8  Flag  \\\n",
      "0    0.000000  0316000    8  05  20  ea  0a  20  1a  00  7f    -1   \n",
      "1    0.000224  0329000    8  d7  a7  7f  8c  11  2f  00  10    -1   \n",
      "2    0.000462  0080000    8  00  17  ea  0a  20  1a  20  43    -1   \n",
      "3    0.000704  0081000    8  7f  84  60  00  00  00  00  53    -1   \n",
      "4    0.000878  0120000    4  00  00  00  00                    -1   \n",
      "5    0.001115  0153000    8  00  80  10  ff  00  ff  40  ce    -1   \n",
      "6    0.001366  018f000    8  00  29  20  00  00  45  00  00    -1   \n",
      "7    0.001600  0220000    8  ec  03  02  04  0c  00  35  10    -1   \n",
      "8    0.001684  0153100    0  -1                                -1   \n",
      "9    0.001928  0153000    8  00  80  10  ff  00  ff  40  ce    -1   \n",
      "10   0.002167  0260000    8  05  20  00  30  ff  93  5f  35    -1   \n",
      "11   0.002402  02a0000    8  62  00  60  9d  db  0c  ba  02    -1   \n",
      "12   0.002638  0370000    8  ff  20  00  80  ff  00  00  ec    -1   \n",
      "13   0.002882  0382000    8  40  fe  0f  00  00  00  00  08    -1   \n",
      "14   0.003123  043f000    8  10  50  60  ff  4b  98  09  00    -1   \n",
      "15   0.003370  0440000    8  ff  f0  00  00  ff  a0  09  00    -1   \n",
      "16   0.003617  0517000    8  00  00  00  00  00  00  00  00    -1   \n",
      "17   0.003852  0545000    8  d8  10  00  8c  32  00  32  00    -1   \n",
      "18   0.004095  059b000    8  00  00  00  00  00  00  00  c4    -1   \n",
      "19   0.005486  02b0000    5  15  00  00  07  30                -1   \n",
      "20   0.005713  0165000    8  0f  e8  7f  00  00  00  00  98    -1   \n",
      "21   0.005957  04b1000    8  00  01  00  00  00  00  00  01    -1   \n",
      "22   0.006204  0164000    8  00  08  00  00  00  00  01  09    -1   \n",
      "23   0.009778  04f0000    8  00  00  e6  00  00  ce  d2  04    -1   \n",
      "24   0.009958  0316000    8  05  20  ea  0a  20  1a  00  7f    -1   \n",
      "25   0.010193  0329000    8  d7  a7  7f  8c  11  2f  00  10    -1   \n",
      "26   0.010429  0080000    8  00  17  ea  0a  20  1a  20  34    -1   \n",
      "27   0.010669  0081000    8  7f  84  60  00  00  00  00  44    -1   \n",
      "28   0.010908  0153000    8  00  80  10  ff  00  ff  50  de    -1   \n",
      "29   0.011150  018f000    8  00  29  20  00  00  45  00  00    -1   \n",
      "30   0.011398  01f1000    8  00  00  00  00  00  00  00  00    -1   \n",
      "31   0.011644  0220000    8  ed  03  06  04  0c  00  3a  10    -1   \n",
      "32   0.011909  0260000    8  05  20  00  30  ff  93  5f  08    -1   \n",
      "33   0.012119  02a0000    8  02  00  60  9d  db  0c  ba  02    -1   \n",
      "34   0.012204  0164100    0  -1                                -1   \n",
      "35   0.012458  0164000    8  00  08  00  00  00  00  01  09    -1   \n",
      "36   0.012700  0370000    8  ff  20  00  80  ff  00  00  a0    -1   \n",
      "37   0.012942  043f000    8  10  50  60  ff  4b  9c  09  00    -1   \n",
      "38   0.013188  0440000    8  ff  00  00  00  ff  a0  09  00    -1   \n",
      "39   0.013438  0510000    8  00  00  00  00  00  00  00  00    -1   \n",
      "40   0.013670  0545000    8  d8  10  00  8c  32  00  32  00    -1   \n",
      "41   0.015432  02b0000    5  16  00  00  07  11                -1   \n",
      "42   0.015665  0165000    8  0f  e8  7f  00  00  00  01  99    -1   \n",
      "43   0.015910  04b0000    8  00  00  00  00  00  00  00  00    -1   \n",
      "44   0.016156  0164000    8  00  08  00  00  00  00  02  0a    -1   \n",
      "45   0.016897  0350000    8  05  20  24  79  7b  00  00  03    -1   \n",
      "46   0.019768  04f2000    8  00  00  a0  38  00  00  00  f3    -1   \n",
      "47   0.019950  0370000    8  ff  20  00  80  ff  00  00  64    -1   \n",
      "48   0.020190  043f000    8  10  50  60  ff  4b  9c  09  00    -1   \n",
      "49   0.020434  0440000    8  ff  50  00  00  ff  9c  09  00    -1   \n",
      "\n",
      "                      binID  \n",
      "0    1100010110000000000000  \n",
      "1    1100101001000000000000  \n",
      "2      10000000000000000000  \n",
      "3      10000001000000000000  \n",
      "4     100100000000000000000  \n",
      "5     101010011000000000000  \n",
      "6     110001111000000000000  \n",
      "7    1000100000000000000000  \n",
      "8     101010011000100000000  \n",
      "9     101010011000000000000  \n",
      "10   1001100000000000000000  \n",
      "11   1010100000000000000000  \n",
      "12   1101110000000000000000  \n",
      "13   1110000010000000000000  \n",
      "14  10000111111000000000000  \n",
      "15  10001000000000000000000  \n",
      "16  10100010111000000000000  \n",
      "17  10101000101000000000000  \n",
      "18  10110011011000000000000  \n",
      "19   1010110000000000000000  \n",
      "20    101100101000000000000  \n",
      "21  10010110001000000000000  \n",
      "22    101100100000000000000  \n",
      "23  10011110000000000000000  \n",
      "24   1100010110000000000000  \n",
      "25   1100101001000000000000  \n",
      "26     10000000000000000000  \n",
      "27     10000001000000000000  \n",
      "28    101010011000000000000  \n",
      "29    110001111000000000000  \n",
      "30    111110001000000000000  \n",
      "31   1000100000000000000000  \n",
      "32   1001100000000000000000  \n",
      "33   1010100000000000000000  \n",
      "34    101100100000100000000  \n",
      "35    101100100000000000000  \n",
      "36   1101110000000000000000  \n",
      "37  10000111111000000000000  \n",
      "38  10001000000000000000000  \n",
      "39  10100010000000000000000  \n",
      "40  10101000101000000000000  \n",
      "41   1010110000000000000000  \n",
      "42    101100101000000000000  \n",
      "43  10010110000000000000000  \n",
      "44    101100100000000000000  \n",
      "45   1101010000000000000000  \n",
      "46  10011110010000000000000  \n",
      "47   1101110000000000000000  \n",
      "48  10000111111000000000000  \n",
      "49  10001000000000000000000  \n"
     ]
    }
   ],
   "source": [
    "pprint(dataset1[1].head(50))\n",
    "# dataset1[0].at[4,'ID']"
   ]
  },
  {
   "cell_type": "code",
   "execution_count": null,
   "metadata": {
    "pycharm": {
     "name": "#%%\n"
    }
   },
   "outputs": [],
   "source": [
    "# Convert dataset2 to csv\n",
    "# Attack_free\n",
    "ref_directory = 'D:/code/ids/CarHacking/'\n",
    "for file_path in os.listdir(ref_directory):\n",
    "    if file_path.endswith('.txt'):\n",
    "        with open(ref_directory + file_path, \"r\") as file:\n",
    "\n",
    "            with open(ref_directory + file_path[:-4] + \".csv\", 'w') as output_file:\n",
    "                data = file.read()\n",
    "                writer = csv.writer(output_file)\n",
    "\n",
    "                for index, row in tqdm(enumerate(data.split(\"\\n\")[:-1])):\n",
    "\n",
    "                    writer.writerow([\n",
    "                        float(row.split(\"Timestamp:\")[1].split(\"ID\")[0].strip()),\n",
    "                        (row.split(\"ID:\")[1].split(\"DLC\")[0].strip().replace(\" \", \"\")),\n",
    "                        int(row.split(\"DLC:\")[1][:2].strip()),\n",
    "                        row.split(\"DLC:\")[1][6:].strip().replace(\" \", \"\")\n",
    "                    ])\n"
   ]
  },
  {
   "cell_type": "code",
   "execution_count": null,
   "metadata": {
    "pycharm": {
     "name": "#%%\n"
    }
   },
   "outputs": [],
   "source": [
    "# Read dataset 2\n",
    "# Attack_free, DoS, Fuzzy, Gear, RPM\n",
    "ref_directory = 'D:/code/ids/CarHacking/'\n",
    "dataset2 = [pd.DataFrame(columns=[\"Timestamp\", \"ID\", \"DLC\", \"Data\"]) for x in range(5)]\n",
    "for index, file in tqdm(enumerate([x for x in os.listdir(ref_directory) if x.endswith('.csv')])):\n",
    "\n",
    "    if index == 3:\n",
    "        dataset2[index] = pd.read_csv(ref_directory + file, names=[\"Timestamp\", \"ID\", \"DLC\", \"Data\"])\n",
    "        dataset2[index] = dataset2[index].fillna(\"-1\")\n",
    "        for column in range(8):\n",
    "            dataset2[index][str(column+1)] = dataset2[index][\"Data\"].str[2*column:(2*column)+2]\n",
    "        dataset2[index] = dataset2[index].drop([\"Data\"], axis=1)\n",
    "        dataset2[index][\"Flag\"] = -1\n",
    "        continue\n",
    "\n",
    "    dataset2[index] = pd.read_csv(ref_directory + file, names=[\"Timestamp\", \"ID\", \"DLC\", \"1\", \"2\", \"3\", \"4\", \"5\", \"6\", \"7\", \"8\", \"Flag\"])\n",
    "    condition = dataset2[index]['Flag'].isna()\n",
    "    for row_index, row in dataset2[index][condition].iterrows():\n",
    "        column = 0\n",
    "        for column in range(1, 9):\n",
    "            if type(dataset2[index].at[row_index, str(column)]) != str:\n",
    "                dataset2[index].at[row_index, \"Flag\"] = dataset2[index].at[row_index, str(column-1)]\n",
    "                dataset2[index].at[row_index, str(column-1)] = \" \"\n",
    "                break\n",
    "    dataset2[index] = dataset2[index].fillna(\" \")"
   ]
  },
  {
   "cell_type": "code",
   "execution_count": null,
   "metadata": {
    "pycharm": {
     "name": "#%%\n"
    }
   },
   "outputs": [],
   "source": [
    "pprint(dataset2[0].head())"
   ]
  },
  {
   "cell_type": "code",
   "execution_count": 21,
   "metadata": {
    "pycharm": {
     "name": "#%%\n"
    }
   },
   "outputs": [
    {
     "name": "stderr",
     "output_type": "stream",
     "text": [
      "656579it [00:01, 397702.98it/s]\n",
      "591990it [00:01, 402707.68it/s]\n",
      "995472it [00:02, 359733.95it/s]\n"
     ]
    }
   ],
   "source": [
    "# Convert dataset3 to csv\n",
    "ref_directory = '../ids/CANintrusion/'\n",
    "for file_path in os.listdir(ref_directory):\n",
    "    if file_path.endswith('.txt'):\n",
    "        with open(ref_directory + file_path, \"r\") as file:\n",
    "\n",
    "            with open(ref_directory + file_path[:-4] + \".csv\", 'w') as output_file:\n",
    "                data = file.read()\n",
    "                writer = csv.writer(output_file)\n",
    "                writer.writerow([\"Timestamp\", \"ID\", \"DLC\", \"Data\"])\n",
    "\n",
    "                for index, row in tqdm(enumerate(data.split(\"\\n\")[:-1])):\n",
    "\n",
    "                    writer.writerow([\n",
    "                        float(row.split(\"Timestamp:\")[1].split(\"ID\")[0].strip()),\n",
    "                        (row.split(\"ID:\")[1].split(\"DLC\")[0].strip().replace(\" \", \"\")),\n",
    "                        int(row.split(\"DLC:\")[1][:2].strip()),\n",
    "                        row.split(\"DLC:\")[1][6:].strip().replace(\" \", \"\")\n",
    "                    ])"
   ]
  },
  {
   "cell_type": "code",
   "execution_count": 26,
   "metadata": {
    "pycharm": {
     "name": "#%%\n"
    }
   },
   "outputs": [
    {
     "name": "stderr",
     "output_type": "stream",
     "text": [
      "12it [00:21,  1.76s/it]\n"
     ]
    }
   ],
   "source": [
    "# Read dataset 3\n",
    "# Attack_free, DoS, Fuzzy, Gear, RPM\n",
    "ref_directory = '../ids/Survival/'\n",
    "dataset3 = [pd.DataFrame(columns=[\"Timestamp\", \"ID\", \"DLC\", \"Data\"]) for x in range(12)]\n",
    "for index, file in tqdm(enumerate([x for x in os.listdir(ref_directory) if x.endswith('.txt')])): # dataset files are csv but mislabeled txt\n",
    "\n",
    "    dataset3[index] = pd.read_csv(ref_directory + file, names=[\"Timestamp\", \"ID\", \"DLC\", \"1\", \"2\", \"3\", \"4\", \"5\", \"6\", \"7\", \"8\", \"Flag\"])\n",
    "\n",
    "    if \"FreeDriving\" in file and \"SONATA\" not in file:\n",
    "        dataset3[index][\"Data\"] = dataset3[index][\"1\"]\n",
    "        dataset3[index] = dataset3[index].drop([\"1\", \"2\", \"3\", \"4\", \"5\", \"6\", \"7\", \"8\", \"Flag\"], axis=1)\n",
    "        dataset3[index] = dataset3[index].drop([\"Data\"], axis=1).join(dataset3[index].Data.str.split(expand=True))\n",
    "        dataset3[index].columns.values[3:11] = [\"1\", \"2\", \"3\", \"4\", \"5\", \"6\", \"7\", \"8\"]\n",
    "        dataset3[index][\"Flag\"] = -1\n",
    "\n",
    "    elif \"FreeDriving\" in file and \"SONATA\" in file:\n",
    "        dataset3[index][\"Flag\"] = -1\n",
    "\n",
    "    else:\n",
    "        condition = dataset3[index]['Flag'].isna()\n",
    "        for row_index, row in dataset3[index][condition].iterrows():\n",
    "            for column in range(1, 9):\n",
    "                if type(dataset3[index].at[row_index, str(column)]) != str:\n",
    "                    dataset3[index].at[row_index, \"Flag\"] = dataset3[index].at[row_index, str(column-1)]\n",
    "                    dataset3[index].at[row_index, str(column-1)] = \" \"\n",
    "                    break\n",
    "                elif column == 8 and dataset3[index].at[row_index, str(column)] in [\"R\", \"T\"]:\n",
    "                    dataset3[index].at[row_index, \"Flag\"] = dataset3[index].at[row_index, str(column)]\n",
    "                    dataset3[index].at[row_index, str(column)] = \" \"\n",
    "                    break\n",
    "\n",
    "    dataset3[index] = dataset3[index].fillna(\" \")"
   ]
  },
  {
   "cell_type": "code",
   "execution_count": 27,
   "metadata": {
    "pycharm": {
     "name": "#%%\n"
    }
   },
   "outputs": [
    {
     "name": "stdout",
     "output_type": "stream",
     "text": [
      "      Timestamp    ID  DLC   1   2   3   4   5   6   7   8 Flag\n",
      "0  1.513922e+09  0081    8  7F  84  69  00  00  00  00  69    R\n",
      "1  1.513922e+09  0165    8  08  E8  7F  00  00  00  01  9E    R\n",
      "2  1.513922e+09  018F    8  00  2B  1F  00  00  3F  00  00    R\n",
      "3  1.513922e+09  0260    8  05  1F  00  30  FF  8F  65  17    R\n",
      "4  1.513922e+09  02A0    8  A2  00  69  90  E8  0F  33  03    R\n"
     ]
    }
   ],
   "source": [
    "pprint(dataset3[0].head())"
   ]
  },
  {
   "cell_type": "code",
   "execution_count": null,
   "metadata": {
    "pycharm": {
     "name": "#%%\n"
    }
   },
   "outputs": [],
   "source": [
    "# Modify datasets for ML training by replacing blanks with -1s, converting hex to int, and converting flags to boolean int\n",
    "datasets = [dataset1, dataset2, dataset3]\n",
    "for di, dataset in enumerate(datasets):\n",
    "    for dfi, df in tqdm(enumerate(dataset)):\n",
    "        df = df.replace('', ' ')\n",
    "        df = df.replace(' ', '-1')\n",
    "        for column in [\"ID\", \"1\", \"2\", \"3\", \"4\", \"5\", \"6\", \"7\", \"8\"]:\n",
    "            if type(df.at[0, column]) == str:\n",
    "                df[column] = df[column].apply(int, base=16)\n",
    "                pass\n",
    "        for column in [\"Flag\"]:\n",
    "            df[column] = df[column].apply(lambda x: 1 if x == \"T\" else 0 if x == \"R\" else -1)\n",
    "        datasets[di][dfi] = df\n",
    "dataset1, dataset2, dataset3 = datasets"
   ]
  },
  {
   "cell_type": "code",
   "execution_count": 28,
   "metadata": {
    "pycharm": {
     "name": "#%%\n"
    }
   },
   "outputs": [
    {
     "data": {
      "text/plain": [
       "<AxesSubplot:>"
      ]
     },
     "execution_count": 28,
     "metadata": {},
     "output_type": "execute_result"
    },
    {
     "data": {
      "image/png": "[encoded data removed]",
      "text/plain": [
       "<Figure size 432x288 with 2 Axes>"
      ]
     },
     "metadata": {
      "needs_background": "light"
     },
     "output_type": "display_data"
    }
   ],
   "source": [
    "corr = dataset1[2].corr()\n",
    "sns.heatmap(corr, xticklabels=corr.columns, yticklabels=corr.columns, annot=True, cmap=sns.diverging_palette(220, 20, as_cmap=True))"
   ]
  },
  {
   "cell_type": "code",
   "execution_count": 29,
   "metadata": {
    "pycharm": {
     "name": "#%%\n"
    }
   },
   "outputs": [
    {
     "data": {
      "image/png": "[encoded data removed]",
      "text/plain": [
       "<Figure size 432x288 with 1 Axes>"
      ]
     },
     "metadata": {
      "needs_background": "light"
     },
     "output_type": "display_data"
    }
   ],
   "source": [
    "plt.plot(dataset3[0][142100:142150]['Flag'], marker='.')\n",
    "plt.show()"
   ]
  },
  {
   "cell_type": "code",
   "execution_count": null,
   "metadata": {
    "pycharm": {
     "name": "#%%\n"
    }
   },
   "outputs": [],
   "source": [
    "df = dataset2[2]"
   ]
  },
  {
   "cell_type": "code",
   "execution_count": null,
   "metadata": {
    "pycharm": {
     "name": "#%%\n"
    }
   },
   "outputs": [],
   "source": [
    "print(f'0s: {df[df[\"Flag\"] == 0].shape}')\n",
    "print(f'1s: {df[df[\"Flag\"] == 1].shape}')"
   ]
  },
  {
   "cell_type": "code",
   "execution_count": null,
   "metadata": {
    "pycharm": {
     "name": "#%%\n"
    }
   },
   "outputs": [],
   "source": [
    "# X_train, X_test, y_train, y_test = train_test_split(df.iloc[:, :3], df.iloc[:, -1], test_size=0.3, random_state=42)\n",
    "split_index = int(0.7 * len(df))\n",
    "X_train = df.iloc[:split_index, :-1]\n",
    "y_train = df.iloc[:split_index, -1]\n",
    "X_test = df.iloc[split_index:, :-1]\n",
    "y_test = df.iloc[split_index:, -1]"
   ]
  },
  {
   "cell_type": "code",
   "execution_count": null,
   "metadata": {
    "pycharm": {
     "name": "#%%\n"
    }
   },
   "outputs": [
    {
     "name": "stdout",
     "output_type": "stream",
     "text": [
      "Regularized score on train: 0.1698331843074993\n"
     ]
    }
   ],
   "source": [
    "reg = LogisticRegression(class_weight=\"balanced\").fit(X_train, y_train)\n",
    "print(f\"Regularized score on train: {reg.score(X_train, y_train)}\")"
   ]
  },
  {
   "cell_type": "code",
   "execution_count": null,
   "metadata": {
    "pycharm": {
     "name": "#%%\n"
    }
   },
   "outputs": [
    {
     "name": "stdout",
     "output_type": "stream",
     "text": [
      "Regularized score on test: 0.05179291237509781\n"
     ]
    }
   ],
   "source": [
    "print(f\"Regularized score on test: {reg.score(X_test, y_test)}\")"
   ]
  },
  {
   "cell_type": "code",
   "execution_count": null,
   "metadata": {
    "pycharm": {
     "name": "#%%\n"
    }
   },
   "outputs": [
    {
     "name": "stdout",
     "output_type": "stream",
     "text": [
      "array([1, 1, 1, ..., 1, 1, 1], dtype=int64)\n",
      "{1}\n"
     ]
    }
   ],
   "source": [
    "y_hat = reg.predict(X_test)\n",
    "pprint(y_hat)\n",
    "pprint(set(y_hat))"
   ]
  },
  {
   "cell_type": "code",
   "execution_count": null,
   "metadata": {
    "pycharm": {
     "name": "#%%\n"
    }
   },
   "outputs": [
    {
     "data": {
      "image/png": "[encoded data removed]",
      "text/plain": [
       "<Figure size 640x480 with 2 Axes>"
      ]
     },
     "metadata": {},
     "output_type": "display_data"
    }
   ],
   "source": [
    "confusion_matrix = metrics.confusion_matrix(y_test, y_hat)\n",
    "cm_display = metrics.ConfusionMatrixDisplay(confusion_matrix = confusion_matrix)\n",
    "cm_display.plot()\n",
    "plt.show()"
   ]
  },
  {
   "cell_type": "code",
   "execution_count": null,
   "metadata": {
    "pycharm": {
     "name": "#%%\n"
    }
   },
   "outputs": [
    {
     "name": "stdout",
     "output_type": "stream",
     "text": [
      "Accuracy: 0.05179291237509781\n",
      "Precision: 0.05179291237509781\n",
      "Recall: 1.0\n",
      "Sensitivity: 0.0\n",
      "F1: 0.09848499978601692\n"
     ]
    }
   ],
   "source": [
    "print(f\"Accuracy: {metrics.accuracy_score(y_test, y_hat)}\")\n",
    "print(f\"Precision: {metrics.precision_score(y_test, y_hat)}\")\n",
    "print(f\"Recall: {metrics.recall_score(y_test, y_hat)}\")\n",
    "print(f\"Sensitivity: {metrics.recall_score(y_test, y_hat, pos_label=0)}\")\n",
    "print(f\"F1: {metrics.f1_score(y_test, y_hat)}\")"
   ]
  },
  {
   "cell_type": "code",
   "execution_count": null,
   "metadata": {
    "pycharm": {
     "name": "#%%\n"
    }
   },
   "outputs": [
    {
     "name": "stdout",
     "output_type": "stream",
     "text": [
      "Regularized score on train: 1.0\n"
     ]
    }
   ],
   "source": [
    "k = 20\n",
    "knn = KNeighborsClassifier(n_neighbors=k)\n",
    "knn.fit(X_train, y_train)\n",
    "print(f\"Regularized score on train: {knn.score(X_train, y_train)}\")"
   ]
  },
  {
   "cell_type": "code",
   "execution_count": null,
   "metadata": {
    "pycharm": {
     "name": "#%%\n"
    }
   },
   "outputs": [
    {
     "name": "stdout",
     "output_type": "stream",
     "text": [
      "Regularized score on test: 1.0\n"
     ]
    }
   ],
   "source": [
    "print(f\"Regularized score on test: {knn.score(X_test, y_test)}\")"
   ]
  },
  {
   "cell_type": "code",
   "execution_count": null,
   "metadata": {
    "pycharm": {
     "name": "#%%\n"
    }
   },
   "outputs": [
    {
     "name": "stdout",
     "output_type": "stream",
     "text": [
      "array([0, 0, 0, ..., 0, 0, 0], dtype=int64)\n",
      "{0, 1}\n"
     ]
    }
   ],
   "source": [
    "y_hat = knn.predict(X_test)\n",
    "pprint(y_hat)\n",
    "pprint(set(y_hat))"
   ]
  },
  {
   "cell_type": "code",
   "execution_count": null,
   "metadata": {
    "pycharm": {
     "name": "#%%\n"
    }
   },
   "outputs": [
    {
     "data": {
      "image/png": "[encoded data removed]",
      "text/plain": [
       "<Figure size 640x480 with 2 Axes>"
      ]
     },
     "metadata": {},
     "output_type": "display_data"
    }
   ],
   "source": [
    "confusion_matrix = metrics.confusion_matrix(y_test, y_hat)\n",
    "cm_display = metrics.ConfusionMatrixDisplay(confusion_matrix=confusion_matrix)\n",
    "cm_display.plot()\n",
    "plt.show()"
   ]
  },
  {
   "cell_type": "code",
   "execution_count": null,
   "metadata": {
    "pycharm": {
     "name": "#%%\n"
    }
   },
   "outputs": [
    {
     "name": "stdout",
     "output_type": "stream",
     "text": [
      "Accuracy: 1.0\n",
      "Precision: 1.0\n",
      "Recall: 1.0\n",
      "Sensitivity: 1.0\n",
      "F1: 1.0\n"
     ]
    }
   ],
   "source": [
    "print(f\"Accuracy: {metrics.accuracy_score(y_test, y_hat)}\")\n",
    "print(f\"Precision: {metrics.precision_score(y_test, y_hat)}\")\n",
    "print(f\"Recall: {metrics.recall_score(y_test, y_hat)}\")\n",
    "print(f\"Sensitivity: {metrics.recall_score(y_test, y_hat, pos_label=0)}\")\n",
    "print(f\"F1: {metrics.f1_score(y_test, y_hat)}\")"
   ]
  },
  {
   "cell_type": "code",
   "execution_count": null,
   "metadata": {
    "pycharm": {
     "is_executing": true,
     "name": "#%%\n"
    }
   },
   "outputs": [],
   "source": [
    "svm = SVC(class_weight=\"balanced\", C=0.0001, gamma=100)\n",
    "svm.fit(X_train, y_train)\n",
    "print(f\"SVM score on train: {svm.score(X_train, y_train)}\")"
   ]
  },
  {
   "cell_type": "code",
   "execution_count": null,
   "metadata": {
    "pycharm": {
     "is_executing": true,
     "name": "#%%\n"
    }
   },
   "outputs": [],
   "source": [
    "print(f\"SVM score on test: {svm.score(X_test, y_test)}\")"
   ]
  },
  {
   "cell_type": "code",
   "execution_count": null,
   "metadata": {
    "pycharm": {
     "is_executing": true,
     "name": "#%%\n"
    }
   },
   "outputs": [],
   "source": [
    "y_hat = svm.predict(X_test)\n",
    "pprint(y_hat)"
   ]
  },
  {
   "cell_type": "code",
   "execution_count": null,
   "metadata": {
    "pycharm": {
     "is_executing": true,
     "name": "#%%\n"
    }
   },
   "outputs": [],
   "source": [
    "confusion_matrix = metrics.confusion_matrix(y_test, y_hat)\n",
    "cm_display = metrics.ConfusionMatrixDisplay(confusion_matrix=confusion_matrix, display_labels = [False, True])\n",
    "cm_display.plot()\n",
    "plt.show()"
   ]
  },
  {
   "cell_type": "code",
   "execution_count": null,
   "metadata": {
    "pycharm": {
     "is_executing": true,
     "name": "#%%\n"
    }
   },
   "outputs": [],
   "source": [
    "print(f\"Accuracy: {metrics.accuracy_score(y_test, y_hat)}\")\n",
    "print(f\"Precision: {metrics.precision_score(y_test, y_hat)}\")\n",
    "print(f\"Recall: {metrics.recall_score(y_test, y_hat)}\")\n",
    "print(f\"Sensitivity: {metrics.recall_score(y_test, y_hat, pos_label=0)}\")\n",
    "print(f\"F1: {metrics.f1_score(y_test, y_hat)}\")"
   ]
  },
  {
   "cell_type": "code",
   "execution_count": null,
   "metadata": {
    "pycharm": {
     "name": "#%%\n"
    }
   },
   "outputs": [],
   "source": []
  }
 ],
 "metadata": {
  "kernelspec": {
   "display_name": "Python 3 (ipykernel)",
   "language": "python",
   "name": "python3"
  },
  "language_info": {
   "codemirror_mode": {
    "name": "ipython",
    "version": 3
   },
   "file_extension": ".py",
   "mimetype": "text/x-python",
   "name": "python",
   "nbconvert_exporter": "python",
   "pygments_lexer": "ipython3",
   "version": "3.10.5"
  }
 },
 "nbformat": 4,
 "nbformat_minor": 1
}
