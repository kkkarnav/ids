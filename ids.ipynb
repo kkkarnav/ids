{
 "cells": [
  {
   "cell_type": "code",
   "execution_count": 2,
   "metadata": {
    "collapsed": true
   },
   "outputs": [],
   "source": [
    "import os\n",
    "from pprint import pprint\n",
    "from tqdm import tqdm\n",
    "import csv\n",
    "import numpy as np\n",
    "import pandas as pd\n",
    "import matplotlib.pyplot as plt\n",
    "import seaborn as sns\n",
    "from sklearn.preprocessing import scale\n",
    "from sklearn.linear_model import LogisticRegression,LogisticRegressionCV\n",
    "from sklearn.svm import SVC\n",
    "from sklearn.neighbors import KNeighborsClassifier\n",
    "from sklearn.model_selection import train_test_split\n",
    "from imblearn.over_sampling import SMOTE\n",
    "from sklearn import metrics\n",
    "from ydata_profiling import ProfileReport\n",
    "import h5py\n",
    "from tensorflow.keras.models import Sequential\n",
    "from tensorflow.keras.layers import LSTM, Dense"
   ]
  },
  {
   "cell_type": "code",
   "execution_count": 3,
   "outputs": [
    {
     "name": "stderr",
     "output_type": "stream",
     "text": [
      "4it [00:10,  2.74s/it]\n"
     ]
    }
   ],
   "source": [
    "# Read dataset 1\n",
    "# Attack_free, DoS, Fuzzy, Impersonation\n",
    "ref_directory = 'D:/code/ids/CANintrusion/'\n",
    "dataset1 = [pd.DataFrame(columns=[\"Timestamp\", \"ID\", \"DLC\", \"Data\"]) for x in range(4)]\n",
    "for index, file in tqdm(enumerate([x for x in os.listdir(ref_directory) if x.endswith('.csv')])):\n",
    "    dataset1[index] = pd.read_csv(ref_directory + file)\n",
    "    dataset1[index] = dataset1[index].fillna(\"-1\")\n",
    "    for column in range(8):\n",
    "        dataset1[index][str(column+1)] = dataset1[index]['Data'].str[2*column:(2*column)+2]\n",
    "    dataset1[index] = dataset1[index].drop([\"Data\"], axis=1)\n",
    "    dataset1[index][\"Flag\"] = -1\n",
    "    dataset1[index][\"ID\"] = dataset1[index]['ID'].apply(lambda x: format(int(x, 16), '0b').rjust(28, \"0\"))\n"
   ],
   "metadata": {
    "collapsed": false,
    "pycharm": {
     "name": "#%%\n"
    }
   }
  },
  {
   "cell_type": "code",
   "execution_count": 4,
   "outputs": [
    {
     "name": "stdout",
     "output_type": "stream",
     "text": [
      "    Timestamp                            ID  DLC   1   2   3   4   5   6   7  \\\n",
      "0    0.000000  0000000000000000000000000000    8  00  00  00  00  00  00  00   \n",
      "1    0.000271  0000000010000000000000000000    8  00  17  dc  09  16  11  16   \n",
      "2    0.000495  0000000000000000000000000000    8  00  00  00  00  00  00  00   \n",
      "3    0.000736  0000000010000001000000000000    8  40  84  87  00  00  00  00   \n",
      "4    0.000983  0000000000000000000000000000    8  00  00  00  00  00  00  00   \n",
      "5    0.001239  0000000101100101000000000000    8  00  08  80  00  00  00  08   \n",
      "6    0.001484  0000000000000000000000000000    8  00  00  00  00  00  00  00   \n",
      "7    0.001736  0000000110001111000000000000    8  00  3f  16  00  00  3f  00   \n",
      "8    0.001984  0000000000000000000000000000    8  00  00  00  00  00  00  00   \n",
      "9    0.002229  0000001010100000000000000000    8  62  00  87  9d  bc  0c  b7   \n",
      "10   0.002465  0000000000000000000000000000    8  00  00  00  00  00  00  00   \n",
      "11   0.002654  0000001010110000000000000000    5  3a  ff  00  07  68           \n",
      "12   0.002915  0000000000000000000000000000    8  00  00  00  00  00  00  00   \n",
      "13   0.003143  0000001100010110000000000000    8  05  16  dc  09  16  11  00   \n",
      "14   0.003391  0000000000000000000000000000    8  00  00  00  00  00  00  00   \n",
      "15   0.003635  0000001100101001000000000000    8  40  be  80  8c  11  2c  00   \n",
      "16   0.003881  0000000000000000000000000000    8  00  00  00  00  00  00  00   \n",
      "17   0.004134  0000001101110000000000000000    8  ff  20  00  80  ff  00  00   \n",
      "18   0.004379  0000000000000000000000000000    8  00  00  00  00  00  00  00   \n",
      "19   0.004633  0000001110000010000000000000    8  40  fe  0f  00  00  00  00   \n",
      "20   0.004877  0000000000000000000000000000    8  00  00  00  00  00  00  00   \n",
      "21   0.005133  0000010000111111000000000000    8  00  40  60  ff  73  74  09   \n",
      "22   0.005373  0000000000000000000000000000    8  00  00  00  00  00  00  00   \n",
      "23   0.005623  0000010001000000000000000000    8  ff  00  00  00  ff  74  09   \n",
      "24   0.005869  0000000000000000000000000000    8  00  00  00  00  00  00  00   \n",
      "25   0.006119  0000000101010011000000000000    8  00  80  10  ff  00  ff  80   \n",
      "26   0.006369  0000000000000000000000000000    8  00  00  00  00  00  00  00   \n",
      "27   0.006607  0000001000100000000000000000    8  c1  03  f6  03  09  00  47   \n",
      "28   0.006851  0000000000000000000000000000    8  00  00  00  00  00  00  00   \n",
      "29   0.007111  0000010010110000000000000000    8  00  00  00  00  00  00  00   \n",
      "30   0.007357  0000000000000000000000000000    8  00  00  00  00  00  00  00   \n",
      "31   0.007612  0000010010110001000000000000    8  00  00  01  00  00  00  00   \n",
      "32   0.007862  0000000000000000000000000000    8  00  00  00  00  00  00  00   \n",
      "33   0.008117  0000000101100100000000000000    8  00  08  00  00  00  00  0a   \n",
      "34   0.008367  0000000000000000000000000000    8  00  00  00  00  00  00  00   \n",
      "35   0.008602  0000010101000101000000000000    8  d8  0e  00  8a  28  00  29   \n",
      "36   0.008846  0000000000000000000000000000    8  00  00  00  00  00  00  00   \n",
      "37   0.009016  0000010110100010000000000000    4  25  00  a5  01               \n",
      "38   0.009263  0000000000000000000000000000    8  00  00  00  00  00  00  00   \n",
      "39   0.009504  0000001100010110000000000000    8  05  16  dc  09  16  11  00   \n",
      "40   0.009754  0000000000000000000000000000    8  00  00  00  00  00  00  00   \n",
      "41   0.009997  0000000010000000000000000000    8  00  17  dc  09  16  11  16   \n",
      "42   0.010244  0000000000000000000000000000    8  00  00  00  00  00  00  00   \n",
      "43   0.010505  0000000010000001000000000000    8  40  84  87  00  00  00  00   \n",
      "44   0.010746  0000000000000000000000000000    8  00  00  00  00  00  00  00   \n",
      "45   0.010990  0000000101100101000000000000    8  00  08  80  00  00  00  09   \n",
      "46   0.011236  0000000000000000000000000000    8  00  00  00  00  00  00  00   \n",
      "47   0.011485  0000000110001111000000000000    8  00  3f  16  00  00  3f  00   \n",
      "48   0.011730  0000000000000000000000000000    8  00  00  00  00  00  00  00   \n",
      "49   0.011972  0000001001100000000000000000    8  05  16  00  30  01  8a  5b   \n",
      "\n",
      "     8  Flag  \n",
      "0   00    -1  \n",
      "1   bb    -1  \n",
      "2   00    -1  \n",
      "3   6b    -1  \n",
      "4   00    -1  \n",
      "5   80    -1  \n",
      "6   00    -1  \n",
      "7   00    -1  \n",
      "8   00    -1  \n",
      "9   02    -1  \n",
      "10  00    -1  \n",
      "11        -1  \n",
      "12  00    -1  \n",
      "13  7f    -1  \n",
      "14  00    -1  \n",
      "15  10    -1  \n",
      "16  00    -1  \n",
      "17  a0    -1  \n",
      "18  00    -1  \n",
      "19  00    -1  \n",
      "20  00    -1  \n",
      "21  00    -1  \n",
      "22  00    -1  \n",
      "23  00    -1  \n",
      "24  00    -1  \n",
      "25  0e    -1  \n",
      "26  00    -1  \n",
      "27  10    -1  \n",
      "28  00    -1  \n",
      "29  00    -1  \n",
      "30  00    -1  \n",
      "31  01    -1  \n",
      "32  00    -1  \n",
      "33  02    -1  \n",
      "34  00    -1  \n",
      "35  00    -1  \n",
      "36  00    -1  \n",
      "37        -1  \n",
      "38  00    -1  \n",
      "39  7f    -1  \n",
      "40  00    -1  \n",
      "41  ac    -1  \n",
      "42  00    -1  \n",
      "43  5c    -1  \n",
      "44  00    -1  \n",
      "45  81    -1  \n",
      "46  00    -1  \n",
      "47  00    -1  \n",
      "48  00    -1  \n",
      "49  0e    -1  \n"
     ]
    }
   ],
   "source": [
    "pprint(dataset1[1].head(50))"
   ],
   "metadata": {
    "collapsed": false,
    "pycharm": {
     "name": "#%%\n"
    }
   }
  },
  {
   "cell_type": "code",
   "execution_count": 5,
   "outputs": [
    {
     "name": "stderr",
     "output_type": "stream",
     "text": [
      "988871it [00:03, 257400.15it/s]\n"
     ]
    }
   ],
   "source": [
    "# Convert dataset2 to csv\n",
    "# Attack_free\n",
    "ref_directory = 'D:/code/ids/CarHacking/'\n",
    "for file_path in os.listdir(ref_directory):\n",
    "    if file_path.endswith('.txt'):\n",
    "        with open(ref_directory + file_path, \"r\") as file:\n",
    "\n",
    "            with open(ref_directory + file_path[:-4] + \".csv\", 'w') as output_file:\n",
    "                data = file.read()\n",
    "                writer = csv.writer(output_file)\n",
    "\n",
    "                for index, row in tqdm(enumerate(data.split(\"\\n\")[:-1])):\n",
    "\n",
    "                    writer.writerow([\n",
    "                        float(row.split(\"Timestamp:\")[1].split(\"ID\")[0].strip()),\n",
    "                        (row.split(\"ID:\")[1].split(\"DLC\")[0].strip().replace(\" \", \"\")),\n",
    "                        int(row.split(\"DLC:\")[1][:2].strip()),\n",
    "                        row.split(\"DLC:\")[1][6:].strip().replace(\" \", \"\")\n",
    "                    ])\n"
   ],
   "metadata": {
    "collapsed": false,
    "pycharm": {
     "name": "#%%\n"
    }
   }
  },
  {
   "cell_type": "code",
   "execution_count": 6,
   "outputs": [
    {
     "name": "stderr",
     "output_type": "stream",
     "text": [
      "5it [00:51, 10.21s/it]\n"
     ]
    }
   ],
   "source": [
    "# Read dataset 2\n",
    "# Attack_free, DoS, Fuzzy, Gear, RPM\n",
    "ref_directory = 'D:/code/ids/CarHacking/'\n",
    "dataset2 = [pd.DataFrame(columns=[\"Timestamp\", \"ID\", \"DLC\", \"Data\"]) for x in range(5)]\n",
    "for index, file in tqdm(enumerate([x for x in os.listdir(ref_directory) if x.endswith('.csv')])):\n",
    "\n",
    "    if index == 3:\n",
    "        dataset2[index] = pd.read_csv(ref_directory + file, names=[\"Timestamp\", \"ID\", \"DLC\", \"Data\"])\n",
    "        dataset2[index] = dataset2[index].fillna(\"-1\")\n",
    "        for column in range(8):\n",
    "            dataset2[index][str(column+1)] = dataset2[index][\"Data\"].str[2*column:(2*column)+2]\n",
    "        dataset2[index] = dataset2[index].drop([\"Data\"], axis=1)\n",
    "        dataset2[index][\"Flag\"] = -1\n",
    "        dataset2[index][\"ID\"] = dataset2[index]['ID'].apply(lambda x: format(int(x, 16), '0b').rjust(28, \"0\"))\n",
    "\n",
    "    else:\n",
    "        dataset2[index] = pd.read_csv(ref_directory + file, names=[\"Timestamp\", \"ID\", \"DLC\", \"1\", \"2\", \"3\", \"4\", \"5\", \"6\", \"7\", \"8\", \"Flag\"])\n",
    "        condition = dataset2[index]['Flag'].isna()\n",
    "        for row_index, row in dataset2[index][condition].iterrows():\n",
    "            column = 0\n",
    "            for column in range(1, 9):\n",
    "                if type(dataset2[index].at[row_index, str(column)]) != str:\n",
    "                    dataset2[index].at[row_index, \"Flag\"] = dataset2[index].at[row_index, str(column-1)]\n",
    "                    dataset2[index].at[row_index, str(column-1)] = \" \"\n",
    "                    break\n",
    "        dataset2[index][\"ID\"] = dataset2[index]['ID'].apply(lambda x: format(int(x, 16), '0b').rjust(28, \"0\"))\n",
    "\n",
    "    dataset2[index] = dataset2[index].fillna(\" \")"
   ],
   "metadata": {
    "collapsed": false,
    "pycharm": {
     "name": "#%%\n"
    }
   }
  },
  {
   "cell_type": "code",
   "execution_count": 7,
   "outputs": [
    {
     "name": "stdout",
     "output_type": "stream",
     "text": [
      "      Timestamp                            ID  DLC   1   2   3   4   5   6  \\\n",
      "0  1.478198e+09  0000000000000000001100010110    8  05  21  68  09  21  21   \n",
      "1  1.478198e+09  0000000000000000000110001111    8  fe  5b  00  00  00  3c   \n",
      "2  1.478198e+09  0000000000000000001001100000    8  19  21  22  30  08  8e   \n",
      "3  1.478198e+09  0000000000000000001010100000    8  64  00  9a  1d  97  02   \n",
      "4  1.478198e+09  0000000000000000001100101001    8  40  bb  7f  14  11  20   \n",
      "\n",
      "    7   8 Flag  \n",
      "0  00  6f    R  \n",
      "1  00  00    R  \n",
      "2  6d  3a    R  \n",
      "3  bd  00    R  \n",
      "4  00  14    R  \n"
     ]
    }
   ],
   "source": [
    "pprint(dataset2[0].head())"
   ],
   "metadata": {
    "collapsed": false,
    "pycharm": {
     "name": "#%%\n"
    }
   }
  },
  {
   "cell_type": "code",
   "execution_count": 8,
   "outputs": [
    {
     "name": "stderr",
     "output_type": "stream",
     "text": [
      "2369398it [00:08, 282375.59it/s]\n",
      "656579it [00:02, 289352.99it/s]\n",
      "591990it [00:02, 285067.29it/s]\n",
      "995472it [00:03, 257079.13it/s]\n"
     ]
    }
   ],
   "source": [
    "# Convert dataset3 to csv\n",
    "ref_directory = 'D:/code/ids/CANintrusion/'\n",
    "for file_path in os.listdir(ref_directory):\n",
    "    if file_path.endswith('.txt'):\n",
    "        with open(ref_directory + file_path, \"r\") as file:\n",
    "\n",
    "            with open(ref_directory + file_path[:-4] + \".csv\", 'w') as output_file:\n",
    "                data = file.read()\n",
    "                writer = csv.writer(output_file)\n",
    "                writer.writerow([\"Timestamp\", \"ID\", \"DLC\", \"Data\"])\n",
    "\n",
    "                for index, row in tqdm(enumerate(data.split(\"\\n\")[:-1])):\n",
    "\n",
    "                    writer.writerow([\n",
    "                        float(row.split(\"Timestamp:\")[1].split(\"ID\")[0].strip()),\n",
    "                        (row.split(\"ID:\")[1].split(\"DLC\")[0].strip().replace(\" \", \"\")),\n",
    "                        int(row.split(\"DLC:\")[1][:2].strip()),\n",
    "                        row.split(\"DLC:\")[1][6:].strip().replace(\" \", \"\")\n",
    "                    ])"
   ],
   "metadata": {
    "collapsed": false,
    "pycharm": {
     "name": "#%%\n"
    }
   }
  },
  {
   "cell_type": "code",
   "execution_count": 9,
   "outputs": [
    {
     "name": "stderr",
     "output_type": "stream",
     "text": [
      "12it [00:18,  1.57s/it]\n"
     ]
    }
   ],
   "source": [
    "# Read dataset 3\n",
    "# Attack_free, DoS, Fuzzy, Gear, RPM\n",
    "ref_directory = 'D:/code/ids/Survival/'\n",
    "dataset3 = [pd.DataFrame(columns=[\"Timestamp\", \"ID\", \"DLC\", \"Data\"]) for x in range(12)]\n",
    "for index, file in tqdm(enumerate([x for x in os.listdir(ref_directory) if x.endswith('.txt')])): # dataset files are csv but mislabeled txt\n",
    "\n",
    "    dataset3[index] = pd.read_csv(ref_directory + file, names=[\"Timestamp\", \"ID\", \"DLC\", \"1\", \"2\", \"3\", \"4\", \"5\", \"6\", \"7\", \"8\", \"Flag\"])\n",
    "\n",
    "    if \"FreeDriving\" in file and \"SONATA\" not in file:\n",
    "        dataset3[index][\"Data\"] = dataset3[index][\"1\"]\n",
    "        dataset3[index] = dataset3[index].drop([\"1\", \"2\", \"3\", \"4\", \"5\", \"6\", \"7\", \"8\", \"Flag\"], axis=1)\n",
    "        dataset3[index] = dataset3[index].drop([\"Data\"], axis=1).join(dataset3[index].Data.str.split(expand=True))\n",
    "        dataset3[index].columns.values[3:11] = [\"1\", \"2\", \"3\", \"4\", \"5\", \"6\", \"7\", \"8\"]\n",
    "        dataset3[index][\"Flag\"] = -1\n",
    "        dataset3[index][\"ID\"] = dataset3[index]['ID'].apply(lambda x: format(int(x, 16), '0b').rjust(28, \"0\"))\n",
    "\n",
    "    elif \"FreeDriving\" in file and \"SONATA\" in file:\n",
    "        dataset3[index][\"Flag\"] = -1\n",
    "        dataset3[index][\"ID\"] = dataset3[index]['ID'].apply(lambda x: format(int(x, 16), '0b').rjust(28, \"0\"))\n",
    "\n",
    "    else:\n",
    "        dataset3[index][\"ID\"] = dataset3[index]['ID'].apply(lambda x: format(int(x, 16), '0b').rjust(28, \"0\"))\n",
    "        condition = dataset3[index]['Flag'].isna()\n",
    "        for row_index, row in dataset3[index][condition].iterrows():\n",
    "            for column in range(1, 9):\n",
    "                if type(dataset3[index].at[row_index, str(column)]) != str:\n",
    "                    dataset3[index].at[row_index, \"Flag\"] = dataset3[index].at[row_index, str(column-1)]\n",
    "                    dataset3[index].at[row_index, str(column-1)] = \" \"\n",
    "                    break\n",
    "                elif column == 8 and dataset3[index].at[row_index, str(column)] in [\"R\", \"T\"]:\n",
    "                    dataset3[index].at[row_index, \"Flag\"] = dataset3[index].at[row_index, str(column)]\n",
    "                    dataset3[index].at[row_index, str(column)] = \" \"\n",
    "                    break\n",
    "\n",
    "    dataset3[index] = dataset3[index].fillna(\" \")"
   ],
   "metadata": {
    "collapsed": false,
    "pycharm": {
     "name": "#%%\n"
    }
   }
  },
  {
   "cell_type": "code",
   "execution_count": 10,
   "outputs": [
    {
     "name": "stdout",
     "output_type": "stream",
     "text": [
      "       Timestamp                            ID  DLC   1   2   3   4   5   6  \\\n",
      "0   1.513920e+09  0000000000000000000111100101    8  5C  00  30  30  00  00   \n",
      "1   1.513920e+09  0000000000000000000011000111    4  00  07  02  20           \n",
      "2   1.513920e+09  0000000000000000000111100001    7  00  00  00  00  02  00   \n",
      "3   1.513920e+09  0000000000000000000011111001    8  00  00  40  00  00  00   \n",
      "4   1.513920e+09  0000000000000000000111110001    8  AE  0A  00  00  18  00   \n",
      "5   1.513920e+09  0000000000000000000010101010    8  2B  E7  2C  5B  46  53   \n",
      "6   1.513920e+09  0000000000000000000010111110    6  08  00  00  03  E9  FE   \n",
      "7   1.513920e+09  0000000000000000000011001001    8  84  0D  20  0A  00  00   \n",
      "8   1.513920e+09  0000000000000000000011000001    8  61  17  48  10  21  43   \n",
      "9   1.513920e+09  0000000000000000000011000101    8  20  16  D4  60  23  AC   \n",
      "10  1.513920e+09  0000000000000000000011010001    7  80  00  BF  FE  00  FE   \n",
      "11  1.513920e+09  0000000000000000000110001110    8  00  00  00  69  C6  9C   \n",
      "12  1.513920e+09  0000000000000000000110100001    7  00  00  01  41  6A  6A   \n",
      "13  1.513920e+09  0000000000000000000110010001    8  06  9C  06  AA  06  9C   \n",
      "14  1.513920e+09  0000000000000000000110100011    1  80                       \n",
      "15  1.513920e+09  0000000000000000010001010001    6  00  00  00  00  00  00   \n",
      "16  1.513920e+09  0000000000000000000110101010    7  00  68  66  88  6A  A0   \n",
      "17  1.513920e+09  0000000000000000000110111010    8  06  9A  69  A6  8A  69   \n",
      "18  1.513920e+09  0000000000000000000111000011    8  06  9C  06  9B  FF  20   \n",
      "19  1.513920e+09  0000000000000000000111000100    8  27  62  C0  30  02  00   \n",
      "20  1.513920e+09  0000000000000000000011110001    6  1C  01  00  40  00  00   \n",
      "21  1.513920e+09  0000000000000000000111011111    4  80  02  00  00           \n",
      "22  1.513920e+09  0000000000000000000111110100    6  00  00  00  00  00  00   \n",
      "23  1.513920e+09  0000000000000000000111100101    8  5C  00  30  50  00  00   \n",
      "24  1.513920e+09  0000000000000000000111110011    3  80  BC  00               \n",
      "25  1.513920e+09  0000000000000000001111001001    8  07  06  00  00  00  00   \n",
      "26  1.513920e+09  0000000000000000000011000111    4  00  07  02  20           \n",
      "27  1.513920e+09  0000000000000000000011111001    8  00  00  40  00  00  00   \n",
      "28  1.513920e+09  0000000000000000000110001001    7  CF  FF  0F  FF  2F  FE   \n",
      "29  1.513920e+09  0000000000000000000110010111    4  00  00  00  00           \n",
      "30  1.513920e+09  0000000000000000000110011101    8  C3  2C  3C  D1  00  0C   \n",
      "31  1.513920e+09  0000000000000000000110100110    4  40  00  00  00           \n",
      "32  1.513920e+09  0000000000000000000110101111    8  00  00  00  00  00  00   \n",
      "33  1.513920e+09  0000000000000000000111110101    8  0F  0F  00  01  00  00   \n",
      "34  1.513920e+09  0000000000000000000011000001    8  71  17  48  10  31  43   \n",
      "35  1.513920e+09  0000000000000000000011000101    8  30  16  D4  60  33  AC   \n",
      "36  1.513920e+09  0000000000000000000011010001    7  C0  00  FF  FD  00  FD   \n",
      "37  1.513920e+09  0000000000000000000101111101    6  22  24  42  FF  00  00   \n",
      "38  1.513920e+09  0000000000000000000110000010    8  76  22  01  00  00  00   \n",
      "39  1.513920e+09  0000000000000000000110000101    2  1B  FC                   \n",
      "40  1.513920e+09  0000000000000000000111000111    7  00  00  BF  FE  00  00   \n",
      "41  1.513920e+09  0000000000000000000111101001    8  00  08  00  0E  0F  FF   \n",
      "42  1.513920e+09  0000000000000000000010101010    8  2B  E7  2C  5B  40  53   \n",
      "43  1.513920e+09  0000000000000000000111111100    8  FE  6D  00  89  00  00   \n",
      "44  1.513920e+09  0000000000000000000010111110    6  0C  00  00  03  E9  FD   \n",
      "45  1.513920e+09  0000000000000000000011110001    6  28  01  00  40  00  00   \n",
      "46  1.513920e+09  0000000000000000000011001001    8  84  0D  1D  0D  00  00   \n",
      "47  1.513920e+09  0000000000000000001000010000    4  06  00  01  FD           \n",
      "48  1.513920e+09  0000000000000000000110001110    8  00  00  00  69  C6  9C   \n",
      "49  1.513920e+09  0000000000000000001000010100    6  06  00  61  FD  6C  35   \n",
      "\n",
      "     7   8  Flag  \n",
      "0   00  F8    -1  \n",
      "1             -1  \n",
      "2   00        -1  \n",
      "3   00  00    -1  \n",
      "4   00  72    -1  \n",
      "5   A2  00    -1  \n",
      "6             -1  \n",
      "7   18  00    -1  \n",
      "8   52  88    -1  \n",
      "9   0C  15    -1  \n",
      "10  00        -1  \n",
      "11  06  9C    -1  \n",
      "12  00        -1  \n",
      "13  00  00    -1  \n",
      "14            -1  \n",
      "15            -1  \n",
      "16  00        -1  \n",
      "17  B7  24    -1  \n",
      "18  00  02    -1  \n",
      "19  07  FF    -1  \n",
      "20            -1  \n",
      "21            -1  \n",
      "22            -1  \n",
      "23  01  18    -1  \n",
      "24            -1  \n",
      "25  00  00    -1  \n",
      "26            -1  \n",
      "27  00  00    -1  \n",
      "28  2D        -1  \n",
      "29            -1  \n",
      "30  86  7F    -1  \n",
      "31            -1  \n",
      "32  86  FF    -1  \n",
      "33  08  00    -1  \n",
      "34  52  88    -1  \n",
      "35  0C  15    -1  \n",
      "36  00        -1  \n",
      "37            -1  \n",
      "38  00  00    -1  \n",
      "39            -1  \n",
      "40  3F        -1  \n",
      "41  00  00    -1  \n",
      "42  A5  00    -1  \n",
      "43  C2  4B    -1  \n",
      "44            -1  \n",
      "45            -1  \n",
      "46  18  00    -1  \n",
      "47            -1  \n",
      "48  06  9C    -1  \n",
      "49            -1  \n"
     ]
    }
   ],
   "source": [
    "pprint(dataset3[3].head(50))"
   ],
   "metadata": {
    "collapsed": false,
    "pycharm": {
     "name": "#%%\n"
    }
   }
  },
  {
   "cell_type": "code",
   "execution_count": 11,
   "outputs": [
    {
     "name": "stderr",
     "output_type": "stream",
     "text": [
      "4it [00:27,  6.86s/it]\n",
      "5it [01:33, 18.76s/it]\n",
      "12it [00:08,  1.41it/s]\n"
     ]
    }
   ],
   "source": [
    "# Modify datasets for ML training by replacing blanks with -1s, converting hex to int, and converting flags to boolean int\n",
    "datasets = [dataset1, dataset2, dataset3]\n",
    "for di, dataset in enumerate(datasets):\n",
    "    for dfi, df in tqdm(enumerate(dataset)):\n",
    "        df = df.replace('', ' ')\n",
    "        df = df.replace(' ', '-1')\n",
    "        for column in [\"ID\", \"1\", \"2\", \"3\", \"4\", \"5\", \"6\", \"7\", \"8\"]:\n",
    "            if type(df.at[0, column]) == str:\n",
    "                df[column] = df[column].apply(int, base=16)\n",
    "                pass\n",
    "        for column in [\"Flag\"]:\n",
    "            df[column] = df[column].apply(lambda x: 1 if x == \"T\" else 0 if x == \"R\" else -1)\n",
    "        datasets[di][dfi] = df\n",
    "dataset1, dataset2, dataset3 = datasets"
   ],
   "metadata": {
    "collapsed": false,
    "pycharm": {
     "name": "#%%\n"
    }
   }
  },
  {
   "cell_type": "code",
   "execution_count": 12,
   "outputs": [
    {
     "data": {
      "text/plain": "<AxesSubplot:>"
     },
     "execution_count": 12,
     "metadata": {},
     "output_type": "execute_result"
    },
    {
     "data": {
      "text/plain": "<Figure size 640x480 with 2 Axes>",
      "image/png": "[encoded data removed]"
     },
     "metadata": {},
     "output_type": "display_data"
    }
   ],
   "source": [
    "corr = dataset3[3].corr()\n",
    "sns.heatmap(corr, xticklabels=corr.columns, yticklabels=corr.columns, annot=True, cmap=sns.diverging_palette(220, 20, as_cmap=True))"
   ],
   "metadata": {
    "collapsed": false,
    "pycharm": {
     "name": "#%%\n"
    }
   }
  },
  {
   "cell_type": "code",
   "execution_count": 13,
   "outputs": [
    {
     "data": {
      "text/plain": "<Figure size 640x480 with 1 Axes>",
      "image/png": "[encoded data removed]"
     },
     "metadata": {},
     "output_type": "display_data"
    }
   ],
   "source": [
    "plt.plot(dataset3[3]['Flag'], marker='.')\n",
    "plt.show()"
   ],
   "metadata": {
    "collapsed": false,
    "pycharm": {
     "name": "#%%\n"
    }
   }
  },
  {
   "cell_type": "code",
   "execution_count": 14,
   "outputs": [
    {
     "data": {
      "text/plain": "<Figure size 640x480 with 1 Axes>",
      "image/png": "[encoded data removed]"
     },
     "metadata": {},
     "output_type": "display_data"
    }
   ],
   "source": [
    "plt.bar([x for x in range(len(dataset3[3]['ID'].value_counts()))], dataset3[3]['ID'].value_counts(), color ='maroon', width=0.4)\n",
    "plt.show()"
   ],
   "metadata": {
    "collapsed": false,
    "pycharm": {
     "name": "#%%\n"
    }
   }
  },
  {
   "cell_type": "code",
   "execution_count": 15,
   "outputs": [],
   "source": [
    "df = dataset3[8]"
   ],
   "metadata": {
    "collapsed": false,
    "pycharm": {
     "name": "#%%\n"
    }
   }
  },
  {
   "cell_type": "code",
   "execution_count": 16,
   "outputs": [
    {
     "name": "stdout",
     "output_type": "stream",
     "text": [
      "0s: (59853, 12)\n",
      "1s: (5812, 12)\n",
      "-1s: (0, 12)\n"
     ]
    }
   ],
   "source": [
    "print(f'0s: {df[df[\"Flag\"] == 0].shape}')\n",
    "print(f'1s: {df[df[\"Flag\"] == 1].shape}')\n",
    "print(f'-1s: {df[df[\"Flag\"] == -1].shape}')"
   ],
   "metadata": {
    "collapsed": false,
    "pycharm": {
     "name": "#%%\n"
    }
   }
  },
  {
   "cell_type": "code",
   "execution_count": 17,
   "outputs": [],
   "source": [
    "# X_train, X_test, y_train, y_test = train_test_split(df.iloc[:, :3], df.iloc[:, -1], test_size=0.3, random_state=42)\n",
    "split_index = int(0.7 * len(df))\n",
    "X_train = df.iloc[:split_index, :-1]\n",
    "y_train = df.iloc[:split_index, -1]\n",
    "X_test = df.iloc[split_index:, :-1]\n",
    "y_test = df.iloc[split_index:, -1]"
   ],
   "metadata": {
    "collapsed": false,
    "pycharm": {
     "name": "#%%\n"
    }
   }
  },
  {
   "cell_type": "code",
   "execution_count": null,
   "outputs": [],
   "source": [
    "smote = SMOTE()\n",
    "X_train, y_train = smote.fit_resample(X_train, y_train)\n",
    "X_test, y_test = smote.fit_resample(X_test, y_test)"
   ],
   "metadata": {
    "collapsed": false,
    "pycharm": {
     "name": "#%%\n"
    }
   }
  },
  {
   "cell_type": "code",
   "execution_count": 18,
   "outputs": [
    {
     "name": "stdout",
     "output_type": "stream",
     "text": [
      "Regularized score on train: 0.8986620254541499\n"
     ]
    },
    {
     "name": "stderr",
     "output_type": "stream",
     "text": [
      "C:\\Users\\KARNAV\\AppData\\Roaming\\Python\\Python310\\site-packages\\sklearn\\linear_model\\_logistic.py:458: ConvergenceWarning: lbfgs failed to converge (status=2):\n",
      "ABNORMAL_TERMINATION_IN_LNSRCH.\n",
      "\n",
      "Increase the number of iterations (max_iter) or scale the data as shown in:\n",
      "    https://scikit-learn.org/stable/modules/preprocessing.html\n",
      "Please also refer to the documentation for alternative solver options:\n",
      "    https://scikit-learn.org/stable/modules/linear_model.html#logistic-regression\n",
      "  n_iter_i = _check_optimize_result(\n"
     ]
    }
   ],
   "source": [
    "reg = LogisticRegression(class_weight=\"balanced\").fit(X_train, y_train)\n",
    "print(f\"Regularized score on train: {reg.score(X_train, y_train)}\")"
   ],
   "metadata": {
    "collapsed": false,
    "pycharm": {
     "name": "#%%\n"
    }
   }
  },
  {
   "cell_type": "code",
   "execution_count": 19,
   "outputs": [
    {
     "name": "stdout",
     "output_type": "stream",
     "text": [
      "Regularized score on test: 0.9414213197969543\n"
     ]
    }
   ],
   "source": [
    "print(f\"Regularized score on test: {reg.score(X_test, y_test)}\")"
   ],
   "metadata": {
    "collapsed": false,
    "pycharm": {
     "name": "#%%\n"
    }
   }
  },
  {
   "cell_type": "code",
   "execution_count": 20,
   "outputs": [
    {
     "name": "stdout",
     "output_type": "stream",
     "text": [
      "array([0, 0, 0, ..., 0, 0, 0], dtype=int64)\n",
      "{0}\n"
     ]
    }
   ],
   "source": [
    "y_hat = reg.predict(X_test)\n",
    "pprint(y_hat)\n",
    "pprint(set(y_hat))"
   ],
   "metadata": {
    "collapsed": false,
    "pycharm": {
     "name": "#%%\n"
    }
   }
  },
  {
   "cell_type": "code",
   "execution_count": 21,
   "outputs": [
    {
     "data": {
      "text/plain": "<Figure size 640x480 with 2 Axes>",
      "image/png": "[encoded data removed]"
     },
     "metadata": {},
     "output_type": "display_data"
    }
   ],
   "source": [
    "confusion_matrix = metrics.confusion_matrix(y_test, y_hat)\n",
    "cm_display = metrics.ConfusionMatrixDisplay(confusion_matrix = confusion_matrix)\n",
    "cm_display.plot()\n",
    "plt.show()"
   ],
   "metadata": {
    "collapsed": false,
    "pycharm": {
     "name": "#%%\n"
    }
   }
  },
  {
   "cell_type": "code",
   "execution_count": 22,
   "outputs": [
    {
     "name": "stdout",
     "output_type": "stream",
     "text": [
      "Accuracy: 0.9414213197969543\n",
      "Precision: 0.0\n",
      "Recall: 0.0\n",
      "Sensitivity: 1.0\n",
      "F1: 0.0\n"
     ]
    },
    {
     "name": "stderr",
     "output_type": "stream",
     "text": [
      "C:\\Users\\KARNAV\\AppData\\Roaming\\Python\\Python310\\site-packages\\sklearn\\metrics\\_classification.py:1344: UndefinedMetricWarning: Precision is ill-defined and being set to 0.0 due to no predicted samples. Use `zero_division` parameter to control this behavior.\n",
      "  _warn_prf(average, modifier, msg_start, len(result))\n"
     ]
    }
   ],
   "source": [
    "print(f\"Accuracy: {metrics.accuracy_score(y_test, y_hat)}\")\n",
    "print(f\"Precision: {metrics.precision_score(y_test, y_hat)}\")\n",
    "print(f\"Recall: {metrics.recall_score(y_test, y_hat)}\")\n",
    "print(f\"Sensitivity: {metrics.recall_score(y_test, y_hat, pos_label=0)}\")\n",
    "print(f\"F1: {metrics.f1_score(y_test, y_hat)}\")"
   ],
   "metadata": {
    "collapsed": false,
    "pycharm": {
     "name": "#%%\n"
    }
   }
  },
  {
   "cell_type": "code",
   "execution_count": 23,
   "outputs": [
    {
     "name": "stdout",
     "output_type": "stream",
     "text": [
      "Regularized score on train: 0.9965626019797672\n"
     ]
    }
   ],
   "source": [
    "k = 10\n",
    "knn = KNeighborsClassifier(n_neighbors=k)\n",
    "knn.fit(X_train, y_train)\n",
    "print(f\"Regularized score on train: {knn.score(X_train, y_train)}\")"
   ],
   "metadata": {
    "collapsed": false,
    "pycharm": {
     "name": "#%%\n"
    }
   }
  },
  {
   "cell_type": "code",
   "execution_count": 24,
   "outputs": [
    {
     "name": "stdout",
     "output_type": "stream",
     "text": [
      "Regularized score on test: 0.9929441624365483\n",
      "0.34301614210953046\n"
     ]
    }
   ],
   "source": [
    "print(f\"Regularized score on test: {knn.score(X_test, y_test)}\")\n",
    "print(knn.score(dataset3[7].iloc[:, :11], dataset3[7].iloc[:, 11]))"
   ],
   "metadata": {
    "collapsed": false,
    "pycharm": {
     "name": "#%%\n"
    }
   }
  },
  {
   "cell_type": "code",
   "execution_count": 25,
   "outputs": [
    {
     "name": "stdout",
     "output_type": "stream",
     "text": [
      "array([0, 1, 1, ..., 0, 0, 0], dtype=int64)\n",
      "{0, 1}\n"
     ]
    }
   ],
   "source": [
    "y_hat = knn.predict(X_test)\n",
    "pprint(y_hat)\n",
    "pprint(set(y_hat))"
   ],
   "metadata": {
    "collapsed": false,
    "pycharm": {
     "name": "#%%\n"
    }
   }
  },
  {
   "cell_type": "code",
   "execution_count": 26,
   "outputs": [
    {
     "data": {
      "text/plain": "<Figure size 640x480 with 2 Axes>",
      "image/png": "[encoded data removed]"
     },
     "metadata": {},
     "output_type": "display_data"
    }
   ],
   "source": [
    "confusion_matrix = metrics.confusion_matrix(y_test, y_hat)\n",
    "cm_display = metrics.ConfusionMatrixDisplay(confusion_matrix=confusion_matrix)\n",
    "cm_display.plot()\n",
    "plt.show()"
   ],
   "metadata": {
    "collapsed": false,
    "pycharm": {
     "name": "#%%\n"
    }
   }
  },
  {
   "cell_type": "code",
   "execution_count": 27,
   "outputs": [
    {
     "name": "stdout",
     "output_type": "stream",
     "text": [
      "Accuracy: 0.9929441624365483\n",
      "Precision: 0.9232693911592994\n",
      "Recall: 0.9592720970537262\n",
      "Sensitivity: 0.9950393615874042\n",
      "F1: 0.940926476838079\n"
     ]
    }
   ],
   "source": [
    "print(f\"Accuracy: {metrics.accuracy_score(y_test, y_hat)}\")\n",
    "print(f\"Precision: {metrics.precision_score(y_test, y_hat)}\")\n",
    "print(f\"Recall: {metrics.recall_score(y_test, y_hat)}\")\n",
    "print(f\"Sensitivity: {metrics.recall_score(y_test, y_hat, pos_label=0)}\")\n",
    "print(f\"F1: {metrics.f1_score(y_test, y_hat)}\")"
   ],
   "metadata": {
    "collapsed": false,
    "pycharm": {
     "name": "#%%\n"
    }
   }
  },
  {
   "cell_type": "code",
   "execution_count": 28,
   "outputs": [
    {
     "ename": "NameError",
     "evalue": "name 'svm' is not defined",
     "output_type": "error",
     "traceback": [
      "\u001B[1;31m---------------------------------------------------------------------------\u001B[0m",
      "\u001B[1;31mNameError\u001B[0m                                 Traceback (most recent call last)",
      "Cell \u001B[1;32mIn[28], line 2\u001B[0m\n\u001B[0;32m      1\u001B[0m \u001B[38;5;66;03m# svm = SVC(class_weight=\"balanced\", C=0.001, gamma=1)\u001B[39;00m\n\u001B[1;32m----> 2\u001B[0m \u001B[43msvm\u001B[49m\u001B[38;5;241m.\u001B[39mfit(X_train, y_train)\n\u001B[0;32m      3\u001B[0m \u001B[38;5;28mprint\u001B[39m(\u001B[38;5;124mf\u001B[39m\u001B[38;5;124m\"\u001B[39m\u001B[38;5;124mSVM score on train: \u001B[39m\u001B[38;5;132;01m{\u001B[39;00msvm\u001B[38;5;241m.\u001B[39mscore(X_train,\u001B[38;5;250m \u001B[39my_train)\u001B[38;5;132;01m}\u001B[39;00m\u001B[38;5;124m\"\u001B[39m)\n",
      "\u001B[1;31mNameError\u001B[0m: name 'svm' is not defined"
     ]
    }
   ],
   "source": [
    "# svm = SVC(class_weight=\"balanced\", C=0.001, gamma=1)\n",
    "svm.fit(X_train, y_train)\n",
    "print(f\"SVM score on train: {svm.score(X_train, y_train)}\")"
   ],
   "metadata": {
    "collapsed": false,
    "pycharm": {
     "name": "#%%\n"
    }
   }
  },
  {
   "cell_type": "code",
   "execution_count": null,
   "outputs": [],
   "source": [
    "print(f\"SVM score on test: {svm.score(X_test, y_test)}\")"
   ],
   "metadata": {
    "collapsed": false,
    "pycharm": {
     "name": "#%%\n"
    }
   }
  },
  {
   "cell_type": "code",
   "execution_count": null,
   "outputs": [],
   "source": [
    "y_hat = svm.predict(X_test)\n",
    "pprint(y_hat)"
   ],
   "metadata": {
    "collapsed": false,
    "pycharm": {
     "name": "#%%\n"
    }
   }
  },
  {
   "cell_type": "code",
   "execution_count": null,
   "outputs": [],
   "source": [
    "confusion_matrix = metrics.confusion_matrix(y_test, y_hat)\n",
    "cm_display = metrics.ConfusionMatrixDisplay(confusion_matrix=confusion_matrix, display_labels = [False, True])\n",
    "cm_display.plot()\n",
    "plt.show()"
   ],
   "metadata": {
    "collapsed": false,
    "pycharm": {
     "name": "#%%\n"
    }
   }
  },
  {
   "cell_type": "code",
   "execution_count": null,
   "outputs": [],
   "source": [
    "print(f\"Accuracy: {metrics.accuracy_score(y_test, y_hat)}\")\n",
    "print(f\"Precision: {metrics.precision_score(y_test, y_hat)}\")\n",
    "print(f\"Recall: {metrics.recall_score(y_test, y_hat)}\")\n",
    "print(f\"Sensitivity: {metrics.recall_score(y_test, y_hat, pos_label=0)}\")\n",
    "print(f\"F1: {metrics.f1_score(y_test, y_hat)}\")"
   ],
   "metadata": {
    "collapsed": false,
    "pycharm": {
     "name": "#%%\n"
    }
   }
  },
  {
   "cell_type": "code",
   "execution_count": null,
   "outputs": [],
   "source": [
    "n_steps = 100\n",
    "n_features = df.shape[1]\n",
    "df = df[df[\"Flag\"]==0]"
   ],
   "metadata": {
    "collapsed": false,
    "pycharm": {
     "name": "#%%\n"
    }
   }
  },
  {
   "cell_type": "code",
   "execution_count": null,
   "outputs": [],
   "source": [
    "X = []\n",
    "y = []\n",
    "for row_index in range(n_steps, len(df)):\n",
    "    X.append(df.iloc[row_index - n_steps: row_index, :])\n",
    "    y.append(df.iloc[row_index, :])\n",
    "\n",
    "X = np.array(X)\n",
    "y = np.array(y)\n",
    "\n",
    "for i in range(len(X)):\n",
    "    print(f\"X: {X[i]}\")\n",
    "    print(f\"y: {y[i]}\")"
   ],
   "metadata": {
    "collapsed": false,
    "pycharm": {
     "name": "#%%\n"
    }
   }
  },
  {
   "cell_type": "code",
   "execution_count": null,
   "outputs": [],
   "source": [
    "train_size = int(0.8 * len(X))\n",
    "X_train, X_test = X[:train_size], X[train_size:]\n",
    "y_train, y_test = y[:train_size], y[train_size:]"
   ],
   "metadata": {
    "collapsed": false,
    "pycharm": {
     "name": "#%%\n"
    }
   }
  },
  {
   "cell_type": "code",
   "execution_count": null,
   "outputs": [],
   "source": [
    "model = Sequential()\n",
    "model.add(LSTM(units=50, activation='relu', input_shape=(n_steps, n_features)))\n",
    "model.add(Dense(units=n_features))\n",
    "\n",
    "model.compile(optimizer='adam', loss='mean_squared_error')"
   ],
   "metadata": {
    "collapsed": false,
    "pycharm": {
     "name": "#%%\n"
    }
   }
  },
  {
   "cell_type": "code",
   "execution_count": null,
   "outputs": [],
   "source": [
    "model.fit(X_train, y_train, epochs=100000, batch_size=32)"
   ],
   "metadata": {
    "collapsed": false,
    "pycharm": {
     "name": "#%%\n"
    }
   }
  },
  {
   "cell_type": "code",
   "execution_count": null,
   "outputs": [],
   "source": [
    "loss = model.evaluate(X_test, y_test)\n",
    "print(\"Mean Squared Error:\", loss)"
   ],
   "metadata": {
    "collapsed": false,
    "pycharm": {
     "name": "#%%\n"
    }
   }
  },
  {
   "cell_type": "code",
   "execution_count": null,
   "outputs": [],
   "source": [
    "yhat = model.predict(X_test, verbose=1)\n",
    "print(yhat)"
   ],
   "metadata": {
    "collapsed": false,
    "pycharm": {
     "name": "#%%\n"
    }
   }
  }
 ],
 "metadata": {
  "kernelspec": {
   "display_name": "Python 3",
   "language": "python",
   "name": "python3"
  },
  "language_info": {
   "codemirror_mode": {
    "name": "ipython",
    "version": 2
   },
   "file_extension": ".py",
   "mimetype": "text/x-python",
   "name": "python",
   "nbconvert_exporter": "python",
   "pygments_lexer": "ipython2",
   "version": "2.7.6"
  }
 },
 "nbformat": 4,
 "nbformat_minor": 0
}